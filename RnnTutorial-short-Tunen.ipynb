{
 "cells": [
  {
   "cell_type": "code",
   "execution_count": 1,
   "id": "e3694ab5-51e2-4978-a7d9-2ee42c35937c",
   "metadata": {},
   "outputs": [],
   "source": [
    "import collections\n",
    "import datetime\n",
    "import fluidsynth\n",
    "import glob\n",
    "import numpy as np\n",
    "import pathlib\n",
    "import pandas as pd\n",
    "import pretty_midi\n",
    "import seaborn as sns\n",
    "import tensorflow as tf\n",
    "\n",
    "import keras_tuner as kt\n",
    "from tensorflow.keras import layers\n",
    "from tensorflow.keras.losses import SparseCategoricalCrossentropy, MeanSquaredError\n",
    "from tensorflow.keras.optimizers import Adam\n",
    "\n",
    "from IPython import display\n",
    "from matplotlib import pyplot as plt\n",
    "from typing import Optional"
   ]
  },
  {
   "cell_type": "code",
   "execution_count": 2,
   "id": "2287bbe4-e9b5-41d1-8d81-cadfeac92bee",
   "metadata": {},
   "outputs": [],
   "source": [
    "seed = 42\n",
    "tf.random.set_seed(seed)\n",
    "np.random.seed(seed)\n",
    "\n",
    "# Sampling rate for audio playback\n",
    "_SAMPLING_RATE = 16000"
   ]
  },
  {
   "cell_type": "code",
   "execution_count": 3,
   "id": "f5bdb79b-d08e-4398-8bd1-37cede1400a4",
   "metadata": {},
   "outputs": [],
   "source": [
    "# Download Maestro = Midi Files \n",
    "data_dir = pathlib.Path('data/maestro-v3.0.0')\n",
    "if not data_dir.exists():\n",
    "  tf.keras.utils.get_file(\n",
    "     'maestro-v3.0.0-midi.zip',\n",
    "      origin='https://storage.googleapis.com/magentadata/datasets/maestro/v3.0.0/maestro-v3.0.0-midi.zip',\n",
    "      extract=True,\n",
    "      cache_dir='.', cache_subdir='data',\n",
    "  )"
   ]
  },
  {
   "cell_type": "code",
   "execution_count": 4,
   "id": "09fb9a7a-51f1-4139-99ee-c4550b8c7e3d",
   "metadata": {},
   "outputs": [
    {
     "name": "stdout",
     "output_type": "stream",
     "text": [
      "Number of files: 1276\n"
     ]
    }
   ],
   "source": [
    "filenames = glob.glob(str(data_dir/'**/*.mid*'))\n",
    "print('Number of files:', len(filenames))"
   ]
  },
  {
   "cell_type": "code",
   "execution_count": 5,
   "id": "3f2f07b2-3ba0-4655-a97a-8546ec296713",
   "metadata": {},
   "outputs": [
    {
     "name": "stdout",
     "output_type": "stream",
     "text": [
      "data\\maestro-v3.0.0\\2004\\MIDI-Unprocessed_SMF_02_R1_2004_01-05_ORIG_MID--AUDIO_02_R1_2004_06_Track06_wav.midi\n"
     ]
    }
   ],
   "source": [
    "# Process a Midi file \n",
    "sample_file = filenames[1]\n",
    "print(sample_file)"
   ]
  },
  {
   "cell_type": "code",
   "execution_count": 6,
   "id": "23826176-7e5a-487d-bb32-5f6fa1d3cd95",
   "metadata": {},
   "outputs": [],
   "source": [
    "def display_audio(pm: pretty_midi.PrettyMIDI, seconds=30):\n",
    "  waveform = pm.fluidsynth(fs=_SAMPLING_RATE)\n",
    "  # Take a sample of the generated waveform to mitigate kernel resets\n",
    "  waveform_short = waveform[:seconds*_SAMPLING_RATE]\n",
    "  return display.Audio(waveform_short, rate=_SAMPLING_RATE)"
   ]
  },
  {
   "cell_type": "code",
   "execution_count": 7,
   "id": "f046f79b-5825-40ab-a6b3-0192e5f028cc",
   "metadata": {},
   "outputs": [],
   "source": [
    "def midi_to_notes(midi_file: str) -> pd.DataFrame:\n",
    "  pm = pretty_midi.PrettyMIDI(midi_file)\n",
    "  instrument = pm.instruments[0]\n",
    "  notes = collections.defaultdict(list)\n",
    "\n",
    "  # Sort the notes by start time\n",
    "  sorted_notes = sorted(instrument.notes, key=lambda note: note.start)\n",
    "  prev_start = sorted_notes[0].start\n",
    "\n",
    "  for note in sorted_notes:\n",
    "    start = note.start\n",
    "    end = note.end\n",
    "    notes['pitch'].append(note.pitch)\n",
    "    notes['start'].append(start)\n",
    "    notes['end'].append(end)\n",
    "    notes['step'].append(start - prev_start)\n",
    "    notes['duration'].append(end - start)\n",
    "    prev_start = start\n",
    "\n",
    "  return pd.DataFrame({name: np.array(value) for name, value in notes.items()})"
   ]
  },
  {
   "cell_type": "code",
   "execution_count": 8,
   "id": "244fc431-8b12-4a13-99ec-aa53eeffa6e3",
   "metadata": {},
   "outputs": [],
   "source": [
    "def notes_to_midi(\n",
    "  notes: pd.DataFrame,\n",
    "  out_file: str, \n",
    "  instrument_name: str,\n",
    "  velocity: int = 100,  # note loudness\n",
    ") -> pretty_midi.PrettyMIDI:\n",
    "\n",
    "  pm = pretty_midi.PrettyMIDI()\n",
    "  instrument = pretty_midi.Instrument(\n",
    "      program=pretty_midi.instrument_name_to_program(\n",
    "          instrument_name))\n",
    "\n",
    "  prev_start = 0\n",
    "  for i, note in notes.iterrows():\n",
    "    start = float(prev_start + note['step'])\n",
    "    end = float(start + note['duration'])\n",
    "    note = pretty_midi.Note(\n",
    "        velocity=velocity,\n",
    "        pitch=int(note['pitch']),\n",
    "        start=start,\n",
    "        end=end,\n",
    "    )\n",
    "    instrument.notes.append(note)\n",
    "    prev_start = start\n",
    "\n",
    "  pm.instruments.append(instrument)\n",
    "  pm.write(out_file)\n",
    "  return pm"
   ]
  },
  {
   "cell_type": "code",
   "execution_count": 9,
   "id": "7a101a63-7c71-4e46-9ebb-d6173b6022a7",
   "metadata": {},
   "outputs": [],
   "source": [
    "num_files = 5\n",
    "all_notes = []\n",
    "for f in filenames[:num_files]:\n",
    "  notes = midi_to_notes(f)\n",
    "  all_notes.append(notes)\n",
    "\n",
    "all_notes = pd.concat(all_notes)"
   ]
  },
  {
   "cell_type": "code",
   "execution_count": 10,
   "id": "a479132c-b36a-4f5b-bea2-83ea76c39e31",
   "metadata": {},
   "outputs": [
    {
     "name": "stdout",
     "output_type": "stream",
     "text": [
      "Number of notes parsed: 37241\n"
     ]
    }
   ],
   "source": [
    "n_notes = len(all_notes)\n",
    "print('Number of notes parsed:', n_notes)"
   ]
  },
  {
   "cell_type": "code",
   "execution_count": 11,
   "id": "fe1ebafe-332d-45a5-99ed-04f8027f1b42",
   "metadata": {},
   "outputs": [],
   "source": [
    "key_order = ['pitch', 'step', 'duration']\n",
    "train_notes = np.stack([all_notes[key] for key in key_order], axis=1)"
   ]
  },
  {
   "cell_type": "code",
   "execution_count": 12,
   "id": "26765716-d751-43f7-88bd-cb86fa29b1df",
   "metadata": {},
   "outputs": [
    {
     "data": {
      "text/plain": [
       "TensorSpec(shape=(3,), dtype=tf.float64, name=None)"
      ]
     },
     "execution_count": 12,
     "metadata": {},
     "output_type": "execute_result"
    }
   ],
   "source": [
    "notes_ds = tf.data.Dataset.from_tensor_slices(train_notes)\n",
    "notes_ds.element_spec"
   ]
  },
  {
   "cell_type": "code",
   "execution_count": 13,
   "id": "136bc7fe-0ae1-4b4b-9571-1e104e439a8e",
   "metadata": {},
   "outputs": [],
   "source": [
    "def create_sequences(\n",
    "    dataset: tf.data.Dataset, \n",
    "    seq_length: int,\n",
    "    vocab_size = 128,\n",
    ") -> tf.data.Dataset:\n",
    "  #Returns TF Dataset of sequence and label examples.\n",
    "  seq_length = seq_length+1\n",
    "\n",
    "  # Take 1 extra for the labels\n",
    "  windows = dataset.window(seq_length, shift=1, stride=1,\n",
    "                              drop_remainder=True)\n",
    "\n",
    "  # `flat_map` flattens the\" dataset of datasets\" into a dataset of tensors\n",
    "  flatten = lambda x: x.batch(seq_length, drop_remainder=True)\n",
    "  sequences = windows.flat_map(flatten)\n",
    "\n",
    "  # Normalize note pitch\n",
    "  def scale_pitch(x):\n",
    "    x = x/[vocab_size,1.0,1.0]\n",
    "    return x\n",
    "\n",
    "  # Split the labels\n",
    "  def split_labels(sequences):\n",
    "    inputs = sequences[:-1]\n",
    "    labels_dense = sequences[-1]\n",
    "    labels = {key:labels_dense[i] for i,key in enumerate(key_order)}\n",
    "\n",
    "    return scale_pitch(inputs), labels\n",
    "\n",
    "  return sequences.map(split_labels, num_parallel_calls=tf.data.AUTOTUNE)"
   ]
  },
  {
   "cell_type": "code",
   "execution_count": 14,
   "id": "04dc72ac-3456-4d18-915c-b7b8a0a8dbcd",
   "metadata": {},
   "outputs": [
    {
     "data": {
      "text/plain": [
       "(TensorSpec(shape=(25, 3), dtype=tf.float64, name=None),\n",
       " {'pitch': TensorSpec(shape=(), dtype=tf.float64, name=None),\n",
       "  'step': TensorSpec(shape=(), dtype=tf.float64, name=None),\n",
       "  'duration': TensorSpec(shape=(), dtype=tf.float64, name=None)})"
      ]
     },
     "execution_count": 14,
     "metadata": {},
     "output_type": "execute_result"
    }
   ],
   "source": [
    "seq_length = 25\n",
    "vocab_size = 128\n",
    "seq_ds = create_sequences(notes_ds, seq_length, vocab_size)\n",
    "seq_ds.element_spec"
   ]
  },
  {
   "cell_type": "code",
   "execution_count": 15,
   "id": "3cec5302-4dab-4c08-84bd-acb6a1b465b5",
   "metadata": {},
   "outputs": [],
   "source": [
    "batch_size = 64\n",
    "buffer_size = n_notes - seq_length  # the number of items in the dataset\n",
    "\n",
    "# Aufteilung der Daten in Trainings- und Validierungsdaten | 80/20\n",
    "split = int(0.8 * buffer_size)\n",
    "\n",
    "# skip und take 80%\n",
    "train_ds = (seq_ds\n",
    "            .shuffle(buffer_size)\n",
    "            .take(split)  \n",
    "            .batch(batch_size, drop_remainder=True)\n",
    "            .cache()\n",
    "            .prefetch(tf.data.experimental.AUTOTUNE))\n",
    "\n",
    "validation_ds = (seq_ds\n",
    "                 .shuffle(buffer_size)\n",
    "                 .skip(split)\n",
    "                 .batch(batch_size, drop_remainder=True)\n",
    "                 .cache()\n",
    "                 .prefetch(tf.data.experimental.AUTOTUNE))"
   ]
  },
  {
   "cell_type": "code",
   "execution_count": 16,
   "id": "b2caa97e-527a-4932-b24d-b0fc09322eb3",
   "metadata": {},
   "outputs": [
    {
     "data": {
      "text/plain": [
       "(TensorSpec(shape=(64, 25, 3), dtype=tf.float64, name=None),\n",
       " {'pitch': TensorSpec(shape=(64,), dtype=tf.float64, name=None),\n",
       "  'step': TensorSpec(shape=(64,), dtype=tf.float64, name=None),\n",
       "  'duration': TensorSpec(shape=(64,), dtype=tf.float64, name=None)})"
      ]
     },
     "execution_count": 16,
     "metadata": {},
     "output_type": "execute_result"
    }
   ],
   "source": [
    "train_ds.element_spec"
   ]
  },
  {
   "cell_type": "markdown",
   "id": "fad76206-9a7f-4748-b038-7389417d41af",
   "metadata": {},
   "source": []
  },
  {
   "cell_type": "code",
   "execution_count": 17,
   "id": "100362c1-c3f2-4ec4-a821-84f28282cfcc",
   "metadata": {},
   "outputs": [],
   "source": [
    "@tf.keras.utils.register_keras_serializable(package='Custom', name='mse_with_positive_pressure')\n",
    "def mse_with_positive_pressure(y_true: tf.Tensor, y_pred: tf.Tensor):\n",
    "  mse = (y_true - y_pred) ** 2\n",
    "  positive_pressure = 10 * tf.maximum(-y_pred, 0.0)\n",
    "  return tf.reduce_mean(mse + positive_pressure)"
   ]
  },
  {
   "cell_type": "code",
   "execution_count": 18,
   "id": "f1598c7b-db1c-485f-b4a9-ca0ddc011bd8",
   "metadata": {},
   "outputs": [],
   "source": [
    "def build_model(hp):\n",
    "    inputs = tf.keras.Input(input_shape)\n",
    "    x = tf.keras.layers.LSTM(hp.Int('units', min_value=64, max_value=256, step=32))(inputs)  # Hier variieren wir die Anzahl der LSTM-Einheiten\n",
    "\n",
    "    pitch_output = tf.keras.layers.Dense(128, name='pitch')(x)\n",
    "    step_output = tf.keras.layers.Dense(1, name='step')(x)\n",
    "    duration_output = tf.keras.layers.Dense(1, name='duration')(x)\n",
    "\n",
    "    model = tf.keras.Model(inputs, [pitch_output, step_output, duration_output])\n",
    "\n",
    "    # Kompilieren des Modells mit der optimierten Lernrate\n",
    "    model.compile(\n",
    "        loss=loss,\n",
    "        optimizer=tf.keras.optimizers.Adam(\n",
    "            hp.Choice('learning_rate', values=[1e-2, 1e-3, 1e-4])  # Hier variieren wir die Lernrate\n",
    "        )\n",
    "    )\n",
    "    return model"
   ]
  },
  {
   "cell_type": "code",
   "execution_count": 19,
   "id": "3e8a05ca-51b7-4853-a848-6b608381a045",
   "metadata": {},
   "outputs": [],
   "source": [
    "# new version only\n",
    "#loss = {\n",
    "#    'pitch': SparseCategoricalCrossentropy(from_logits=True),\n",
    "#    'step': MeanSquaredError(),    \n",
    "#    'duration': MeanSquaredError()\n",
    "#}\n",
    "\n",
    "loss = {\n",
    "      'pitch': tf.keras.losses.SparseCategoricalCrossentropy(\n",
    "          from_logits=True),\n",
    "      'step': mse_with_positive_pressure,\n",
    "      'duration': mse_with_positive_pressure,\n",
    "}\n",
    "\n",
    "input_shape = (seq_length, 3)\n",
    "# learning_rate = 0.005\n",
    "# optimizer = Adam(learning_rate=learning_rate)\n"
   ]
  },
  {
   "cell_type": "code",
   "execution_count": null,
   "id": "0ee27a69-7178-4410-8705-466a83945807",
   "metadata": {},
   "outputs": [
    {
     "name": "stdout",
     "output_type": "stream",
     "text": [
      "Trial 28 Complete [00h 03m 07s]\n",
      "loss: 3.906087875366211\n",
      "\n",
      "Best loss So Far: 2.7048873901367188\n",
      "Total elapsed time: 00h 32m 49s\n",
      "\n",
      "Search: Running Trial #29\n",
      "\n",
      "Value             |Best Value So Far |Hyperparameter\n",
      "64                |224               |units\n",
      "0.01              |0.01              |learning_rate\n",
      "25                |25                |tuner/epochs\n",
      "0                 |9                 |tuner/initial_epoch\n",
      "0                 |2                 |tuner/bracket\n",
      "0                 |2                 |tuner/round\n",
      "\n",
      "Epoch 1/25\n",
      "465/465 [==============================] - 5s 8ms/step - loss: 4.0866 - pitch_loss: 3.9487 - step_loss: 0.0446 - duration_loss: 0.0933 - val_loss: 4.0233 - val_pitch_loss: 3.8714 - val_step_loss: 0.0576 - val_duration_loss: 0.0943\n",
      "Epoch 2/25\n",
      "465/465 [==============================] - 3s 7ms/step - loss: 3.9791 - pitch_loss: 3.8609 - step_loss: 0.0366 - duration_loss: 0.0816 - val_loss: 3.9756 - val_pitch_loss: 3.8249 - val_step_loss: 0.0559 - val_duration_loss: 0.0948\n",
      "Epoch 3/25\n",
      "465/465 [==============================] - 3s 7ms/step - loss: 3.9318 - pitch_loss: 3.8146 - step_loss: 0.0363 - duration_loss: 0.0809 - val_loss: 3.9201 - val_pitch_loss: 3.7707 - val_step_loss: 0.0556 - val_duration_loss: 0.0938\n",
      "Epoch 4/25\n",
      "465/465 [==============================] - 3s 7ms/step - loss: 3.8857 - pitch_loss: 3.7705 - step_loss: 0.0358 - duration_loss: 0.0793 - val_loss: 3.8929 - val_pitch_loss: 3.7459 - val_step_loss: 0.0540 - val_duration_loss: 0.0930\n",
      "Epoch 5/25\n",
      "465/465 [==============================] - 3s 7ms/step - loss: 3.8403 - pitch_loss: 3.7254 - step_loss: 0.0358 - duration_loss: 0.0791 - val_loss: 3.8256 - val_pitch_loss: 3.6797 - val_step_loss: 0.0533 - val_duration_loss: 0.0926\n",
      "Epoch 6/25\n",
      "465/465 [==============================] - 3s 7ms/step - loss: 3.7806 - pitch_loss: 3.6666 - step_loss: 0.0355 - duration_loss: 0.0785 - val_loss: 3.7738 - val_pitch_loss: 3.6281 - val_step_loss: 0.0524 - val_duration_loss: 0.0933\n",
      "Epoch 7/25\n",
      "465/465 [==============================] - 3s 7ms/step - loss: 3.7291 - pitch_loss: 3.6155 - step_loss: 0.0356 - duration_loss: 0.0780 - val_loss: 3.7548 - val_pitch_loss: 3.6102 - val_step_loss: 0.0516 - val_duration_loss: 0.0929\n",
      "Epoch 8/25\n",
      "465/465 [==============================] - 3s 7ms/step - loss: 3.6916 - pitch_loss: 3.5790 - step_loss: 0.0355 - duration_loss: 0.0771 - val_loss: 3.6969 - val_pitch_loss: 3.5515 - val_step_loss: 0.0534 - val_duration_loss: 0.0920\n",
      "Epoch 9/25\n",
      "465/465 [==============================] - 3s 7ms/step - loss: 3.6499 - pitch_loss: 3.5377 - step_loss: 0.0350 - duration_loss: 0.0772 - val_loss: 3.6667 - val_pitch_loss: 3.5226 - val_step_loss: 0.0514 - val_duration_loss: 0.0927\n",
      "Epoch 10/25\n",
      "465/465 [==============================] - 3s 7ms/step - loss: 3.6104 - pitch_loss: 3.4991 - step_loss: 0.0347 - duration_loss: 0.0766 - val_loss: 3.6163 - val_pitch_loss: 3.4718 - val_step_loss: 0.0502 - val_duration_loss: 0.0943\n",
      "Epoch 11/25\n",
      "465/465 [==============================] - 3s 7ms/step - loss: 3.5717 - pitch_loss: 3.4613 - step_loss: 0.0342 - duration_loss: 0.0762 - val_loss: 3.5842 - val_pitch_loss: 3.4381 - val_step_loss: 0.0537 - val_duration_loss: 0.0924\n",
      "Epoch 12/25\n",
      "465/465 [==============================] - 3s 7ms/step - loss: 3.5383 - pitch_loss: 3.4276 - step_loss: 0.0344 - duration_loss: 0.0763 - val_loss: 3.5541 - val_pitch_loss: 3.4148 - val_step_loss: 0.0471 - val_duration_loss: 0.0922\n",
      "Epoch 13/25\n",
      "465/465 [==============================] - 3s 7ms/step - loss: 3.5007 - pitch_loss: 3.3902 - step_loss: 0.0344 - duration_loss: 0.0760 - val_loss: 3.5549 - val_pitch_loss: 3.4130 - val_step_loss: 0.0492 - val_duration_loss: 0.0927\n",
      "Epoch 14/25\n",
      "465/465 [==============================] - 3s 7ms/step - loss: 3.4733 - pitch_loss: 3.3636 - step_loss: 0.0342 - duration_loss: 0.0755 - val_loss: 3.5319 - val_pitch_loss: 3.3921 - val_step_loss: 0.0478 - val_duration_loss: 0.0919\n",
      "Epoch 15/25\n",
      "465/465 [==============================] - 3s 7ms/step - loss: 3.4493 - pitch_loss: 3.3402 - step_loss: 0.0340 - duration_loss: 0.0751 - val_loss: 3.5230 - val_pitch_loss: 3.3801 - val_step_loss: 0.0490 - val_duration_loss: 0.0939\n",
      "Epoch 16/25\n",
      "465/465 [==============================] - 3s 7ms/step - loss: 3.4209 - pitch_loss: 3.3121 - step_loss: 0.0340 - duration_loss: 0.0747 - val_loss: 3.4827 - val_pitch_loss: 3.3408 - val_step_loss: 0.0505 - val_duration_loss: 0.0914\n",
      "Epoch 17/25\n",
      "465/465 [==============================] - 3s 7ms/step - loss: 3.3992 - pitch_loss: 3.2921 - step_loss: 0.0334 - duration_loss: 0.0737 - val_loss: 3.4868 - val_pitch_loss: 3.3481 - val_step_loss: 0.0475 - val_duration_loss: 0.0912\n",
      "Epoch 18/25\n",
      "465/465 [==============================] - 3s 7ms/step - loss: 3.3781 - pitch_loss: 3.2711 - step_loss: 0.0334 - duration_loss: 0.0736 - val_loss: 3.4597 - val_pitch_loss: 3.3187 - val_step_loss: 0.0491 - val_duration_loss: 0.0919\n",
      "Epoch 19/25\n",
      "465/465 [==============================] - 3s 7ms/step - loss: 3.3608 - pitch_loss: 3.2537 - step_loss: 0.0338 - duration_loss: 0.0733 - val_loss: 3.4267 - val_pitch_loss: 3.2878 - val_step_loss: 0.0469 - val_duration_loss: 0.0920\n",
      "Epoch 20/25\n",
      "465/465 [==============================] - 3s 7ms/step - loss: 3.3491 - pitch_loss: 3.2428 - step_loss: 0.0335 - duration_loss: 0.0728 - val_loss: 3.4161 - val_pitch_loss: 3.2756 - val_step_loss: 0.0483 - val_duration_loss: 0.0922\n",
      "Epoch 21/25\n",
      "402/465 [========================>.....] - ETA: 0s - loss: 3.3383 - pitch_loss: 3.2273 - step_loss: 0.0363 - duration_loss: 0.0747"
     ]
    }
   ],
   "source": [
    "tuner = kt.Hyperband(\n",
    "    build_model,\n",
    "    objective='loss',\n",
    "    max_epochs=25,\n",
    "    hyperband_iterations=2\n",
    ")\n",
    "\n",
    "# Definition des Hyperparameter-Raums und Suche nach den besten Hyperparametern\n",
    "tuner.search(train_ds, validation_data = validation_ds)\n",
    "\n",
    "# Erhalten der besten Hyperparametern\n",
    "best_hps = tuner.get_best_hyperparameters(num_trials=1)[0]\n",
    "\n",
    "# Erstellen des finalen Modells mit den besten Hyperparametern\n",
    "best_model = tuner.hypermodel.build(best_hps)"
   ]
  },
  {
   "cell_type": "code",
   "execution_count": 21,
   "id": "60d954fb-3a63-4001-851d-5fad2eb77ed3",
   "metadata": {},
   "outputs": [
    {
     "name": "stdout",
     "output_type": "stream",
     "text": [
      "Model: \"model\"\n",
      "__________________________________________________________________________________________________\n",
      " Layer (type)                Output Shape                 Param #   Connected to                  \n",
      "==================================================================================================\n",
      " input_1 (InputLayer)        [(None, 25, 3)]              0         []                            \n",
      "                                                                                                  \n",
      " lstm (LSTM)                 (None, 224)                  204288    ['input_1[0][0]']             \n",
      "                                                                                                  \n",
      " pitch (Dense)               (None, 128)                  28800     ['lstm[0][0]']                \n",
      "                                                                                                  \n",
      " step (Dense)                (None, 1)                    225       ['lstm[0][0]']                \n",
      "                                                                                                  \n",
      " duration (Dense)            (None, 1)                    225       ['lstm[0][0]']                \n",
      "                                                                                                  \n",
      "==================================================================================================\n",
      "Total params: 233538 (912.26 KB)\n",
      "Trainable params: 233538 (912.26 KB)\n",
      "Non-trainable params: 0 (0.00 Byte)\n",
      "__________________________________________________________________________________________________\n"
     ]
    }
   ],
   "source": [
    "best_model.save('models/tuner_best_mode.keras')\n",
    "best_model.summary()"
   ]
  },
  {
   "cell_type": "code",
   "execution_count": 22,
   "id": "d46294c9-0fb2-44f2-bd74-9ab9fa145f20",
   "metadata": {},
   "outputs": [
    {
     "name": "stdout",
     "output_type": "stream",
     "text": [
      "116/116 [==============================] - 4s 7ms/step - loss: 5.2558 - pitch_loss: 4.8577 - step_loss: 0.0711 - duration_loss: 0.3270\n",
      "Verlust (Loss) auf den Validierungsdaten: 5.255849838256836\n",
      "Mean Squared Error (MSE) auf den Validierungsdaten: 4.857725620269775\n",
      "Mean Absolute Error (MAE) auf den Validierungsdaten: 0.07108037173748016\n"
     ]
    }
   ],
   "source": [
    "#todo: richtig parameter? \n",
    "# Verlust und Metriken des Modells auf den Validierungsdaten berechnen \n",
    "loss_and_metrics = best_model.evaluate(validation_ds)\n",
    "\n",
    "# Loss auf den Validierungsdaten ausgeben, sollte nahe 0 sein\n",
    "print(f'Verlust (Loss) auf den Validierungsdaten: {loss_and_metrics[0]}')\n",
    "\n",
    "# Weitere Metriken ausgeben (z. B. Mean Squared Error für Regressionsprobleme)\n",
    "print(f'Mean Squared Error (MSE) auf den Validierungsdaten: {loss_and_metrics[1]}')\n",
    "print(f'Mean Absolute Error (MAE) auf den Validierungsdaten: {loss_and_metrics[2]}')\n"
   ]
  },
  {
   "cell_type": "code",
   "execution_count": 23,
   "id": "3a189aef-a8d1-4439-9c46-ec4faf08bfde",
   "metadata": {},
   "outputs": [],
   "source": [
    "#new version\n",
    "def predict_next_note(\n",
    "    notes: np.ndarray, \n",
    "    model: tf.keras.Model, \n",
    "    temperature: float = 1.0) -> tuple[int, float, float]:\n",
    "    \n",
    "    #Generates a note as a tuple of (pitch, step, duration), using a trained sequence model.\n",
    "\n",
    "  assert temperature > 0\n",
    "\n",
    "  # Add batch dimension\n",
    "  inputs = tf.expand_dims(notes, 0)\n",
    "\n",
    "  predictions = model.predict(inputs)\n",
    "  pitch_logits = predictions[0]\n",
    "  step = predictions[1]\n",
    "  duration = predictions[2]\n",
    "\n",
    "  pitch_logits /= temperature\n",
    "  pitch = tf.random.categorical(pitch_logits, num_samples=1)\n",
    "  pitch = tf.squeeze(pitch, axis=-1)\n",
    "  duration = tf.squeeze(duration, axis=-1)\n",
    "  step = tf.squeeze(step, axis=-1)\n",
    "\n",
    "  # `step` and `duration` values should be non-negative\n",
    "  step = tf.maximum(0, step)\n",
    "  duration = tf.maximum(0, duration)\n",
    "\n",
    "  return int(pitch), float(step), float(duration)"
   ]
  },
  {
   "cell_type": "code",
   "execution_count": 24,
   "id": "f3f42a1d-319d-4997-a11f-b82a40369d15",
   "metadata": {},
   "outputs": [],
   "source": [
    "sample_file = filenames[1]\n",
    "raw_notes = midi_to_notes(sample_file)\n",
    "\n",
    "pm = pretty_midi.PrettyMIDI(sample_file)\n",
    "\n",
    "instrument = pm.instruments[0]\n",
    "instrument_name = pretty_midi.program_to_instrument_name(instrument.program)"
   ]
  },
  {
   "cell_type": "code",
   "execution_count": 25,
   "id": "6f0130af-bb43-40fb-810c-ca8ba2311379",
   "metadata": {},
   "outputs": [
    {
     "data": {
      "text/plain": [
       "\"temperature = 2.0\\nnum_predictions = 120\\n\\nsample_notes = np.stack([raw_notes[key] for key in key_order], axis=1)\\n\\n# The initial sequence of notes; pitch is normalized similar to training\\n# sequences\\ninput_notes = (\\n    sample_notes[:seq_length] / np.array([vocab_size, 1, 1]))\\n\\ngenerated_notes = []\\nprev_start = 0\\nfor _ in range(num_predictions):\\n  pitch, step, duration = predict_next_note(input_notes, model, temperature)\\n  start = prev_start + step\\n  end = start + duration\\n  input_note = (pitch, step, duration)\\n  generated_notes.append((*input_note, start, end))\\n  input_notes = np.delete(input_notes, 0, axis=0)\\n  input_notes = np.append(input_notes, np.expand_dims(input_note, 0), axis=0)\\n  prev_start = start\\n\\ngenerated_notes = pd.DataFrame(\\n    generated_notes, columns=(*key_order, 'start', 'end'))\""
      ]
     },
     "execution_count": 25,
     "metadata": {},
     "output_type": "execute_result"
    }
   ],
   "source": [
    "# lädt nicht rein sondern nutzt hier erstelltest \n",
    "\"\"\"temperature = 2.0\n",
    "num_predictions = 120\n",
    "\n",
    "sample_notes = np.stack([raw_notes[key] for key in key_order], axis=1)\n",
    "\n",
    "# The initial sequence of notes; pitch is normalized similar to training\n",
    "# sequences\n",
    "input_notes = (\n",
    "    sample_notes[:seq_length] / np.array([vocab_size, 1, 1]))\n",
    "\n",
    "generated_notes = []\n",
    "prev_start = 0\n",
    "for _ in range(num_predictions):\n",
    "  pitch, step, duration = predict_next_note(input_notes, model, temperature)\n",
    "  start = prev_start + step\n",
    "  end = start + duration\n",
    "  input_note = (pitch, step, duration)\n",
    "  generated_notes.append((*input_note, start, end))\n",
    "  input_notes = np.delete(input_notes, 0, axis=0)\n",
    "  input_notes = np.append(input_notes, np.expand_dims(input_note, 0), axis=0)\n",
    "  prev_start = start\n",
    "\n",
    "generated_notes = pd.DataFrame(\n",
    "    generated_notes, columns=(*key_order, 'start', 'end'))\"\"\""
   ]
  },
  {
   "cell_type": "code",
   "execution_count": 26,
   "id": "8b228264-f644-4922-9fdc-9bbeaf6ecde1",
   "metadata": {},
   "outputs": [
    {
     "name": "stderr",
     "output_type": "stream",
     "text": [
      "WARNING:absl:Skipping variable loading for optimizer 'Adam', because it has 19 variables whereas the saved optimizer has 1 variables. \n"
     ]
    },
    {
     "name": "stdout",
     "output_type": "stream",
     "text": [
      "1/1 [==============================] - 0s 220ms/step\n",
      "1/1 [==============================] - 0s 14ms/step\n",
      "1/1 [==============================] - 0s 13ms/step\n",
      "1/1 [==============================] - 0s 13ms/step\n",
      "1/1 [==============================] - 0s 13ms/step\n",
      "1/1 [==============================] - 0s 13ms/step\n",
      "1/1 [==============================] - 0s 13ms/step\n",
      "1/1 [==============================] - 0s 13ms/step\n",
      "1/1 [==============================] - 0s 14ms/step\n",
      "1/1 [==============================] - 0s 14ms/step\n",
      "1/1 [==============================] - 0s 13ms/step\n",
      "1/1 [==============================] - 0s 13ms/step\n",
      "1/1 [==============================] - 0s 13ms/step\n",
      "1/1 [==============================] - 0s 14ms/step\n",
      "1/1 [==============================] - 0s 13ms/step\n",
      "1/1 [==============================] - 0s 13ms/step\n",
      "1/1 [==============================] - 0s 13ms/step\n",
      "1/1 [==============================] - 0s 13ms/step\n",
      "1/1 [==============================] - 0s 13ms/step\n",
      "1/1 [==============================] - 0s 13ms/step\n",
      "1/1 [==============================] - 0s 13ms/step\n",
      "1/1 [==============================] - 0s 13ms/step\n",
      "1/1 [==============================] - 0s 14ms/step\n",
      "1/1 [==============================] - 0s 13ms/step\n",
      "1/1 [==============================] - 0s 13ms/step\n",
      "1/1 [==============================] - 0s 13ms/step\n",
      "1/1 [==============================] - 0s 13ms/step\n",
      "1/1 [==============================] - 0s 13ms/step\n",
      "1/1 [==============================] - 0s 13ms/step\n",
      "1/1 [==============================] - 0s 13ms/step\n",
      "1/1 [==============================] - 0s 13ms/step\n",
      "1/1 [==============================] - 0s 13ms/step\n",
      "1/1 [==============================] - 0s 13ms/step\n",
      "1/1 [==============================] - 0s 13ms/step\n",
      "1/1 [==============================] - 0s 13ms/step\n",
      "1/1 [==============================] - 0s 13ms/step\n",
      "1/1 [==============================] - 0s 13ms/step\n",
      "1/1 [==============================] - 0s 13ms/step\n",
      "1/1 [==============================] - 0s 13ms/step\n",
      "1/1 [==============================] - 0s 13ms/step\n",
      "1/1 [==============================] - 0s 12ms/step\n",
      "1/1 [==============================] - 0s 13ms/step\n",
      "1/1 [==============================] - 0s 14ms/step\n",
      "1/1 [==============================] - 0s 13ms/step\n",
      "1/1 [==============================] - 0s 13ms/step\n",
      "1/1 [==============================] - 0s 13ms/step\n",
      "1/1 [==============================] - 0s 12ms/step\n",
      "1/1 [==============================] - 0s 13ms/step\n",
      "1/1 [==============================] - 0s 13ms/step\n",
      "1/1 [==============================] - 0s 13ms/step\n",
      "1/1 [==============================] - 0s 14ms/step\n",
      "1/1 [==============================] - 0s 13ms/step\n",
      "1/1 [==============================] - 0s 13ms/step\n",
      "1/1 [==============================] - 0s 13ms/step\n",
      "1/1 [==============================] - 0s 13ms/step\n",
      "1/1 [==============================] - 0s 13ms/step\n",
      "1/1 [==============================] - 0s 12ms/step\n",
      "1/1 [==============================] - 0s 13ms/step\n",
      "1/1 [==============================] - 0s 13ms/step\n",
      "1/1 [==============================] - 0s 13ms/step\n",
      "1/1 [==============================] - 0s 14ms/step\n",
      "1/1 [==============================] - 0s 12ms/step\n",
      "1/1 [==============================] - 0s 13ms/step\n",
      "1/1 [==============================] - 0s 14ms/step\n",
      "1/1 [==============================] - 0s 13ms/step\n",
      "1/1 [==============================] - 0s 13ms/step\n",
      "1/1 [==============================] - 0s 14ms/step\n",
      "1/1 [==============================] - 0s 13ms/step\n",
      "1/1 [==============================] - 0s 13ms/step\n",
      "1/1 [==============================] - 0s 13ms/step\n",
      "1/1 [==============================] - 0s 12ms/step\n",
      "1/1 [==============================] - 0s 13ms/step\n",
      "1/1 [==============================] - 0s 15ms/step\n",
      "1/1 [==============================] - 0s 13ms/step\n",
      "1/1 [==============================] - 0s 13ms/step\n",
      "1/1 [==============================] - 0s 13ms/step\n",
      "1/1 [==============================] - 0s 14ms/step\n",
      "1/1 [==============================] - 0s 12ms/step\n",
      "1/1 [==============================] - 0s 13ms/step\n",
      "1/1 [==============================] - 0s 14ms/step\n",
      "1/1 [==============================] - 0s 13ms/step\n",
      "1/1 [==============================] - 0s 14ms/step\n",
      "1/1 [==============================] - 0s 13ms/step\n",
      "1/1 [==============================] - 0s 13ms/step\n",
      "1/1 [==============================] - 0s 13ms/step\n",
      "1/1 [==============================] - 0s 13ms/step\n",
      "1/1 [==============================] - 0s 13ms/step\n",
      "1/1 [==============================] - 0s 13ms/step\n",
      "1/1 [==============================] - 0s 13ms/step\n",
      "1/1 [==============================] - 0s 13ms/step\n",
      "1/1 [==============================] - 0s 12ms/step\n",
      "1/1 [==============================] - 0s 13ms/step\n",
      "1/1 [==============================] - 0s 13ms/step\n",
      "1/1 [==============================] - 0s 13ms/step\n",
      "1/1 [==============================] - 0s 13ms/step\n",
      "1/1 [==============================] - 0s 14ms/step\n",
      "1/1 [==============================] - 0s 12ms/step\n",
      "1/1 [==============================] - 0s 13ms/step\n",
      "1/1 [==============================] - 0s 13ms/step\n",
      "1/1 [==============================] - 0s 13ms/step\n",
      "1/1 [==============================] - 0s 14ms/step\n",
      "1/1 [==============================] - 0s 13ms/step\n",
      "1/1 [==============================] - 0s 13ms/step\n",
      "1/1 [==============================] - 0s 13ms/step\n",
      "1/1 [==============================] - 0s 13ms/step\n",
      "1/1 [==============================] - 0s 13ms/step\n",
      "1/1 [==============================] - 0s 13ms/step\n",
      "1/1 [==============================] - 0s 13ms/step\n",
      "1/1 [==============================] - 0s 14ms/step\n",
      "1/1 [==============================] - 0s 17ms/step\n",
      "1/1 [==============================] - 0s 13ms/step\n",
      "1/1 [==============================] - 0s 13ms/step\n",
      "1/1 [==============================] - 0s 13ms/step\n",
      "1/1 [==============================] - 0s 14ms/step\n",
      "1/1 [==============================] - 0s 13ms/step\n",
      "1/1 [==============================] - 0s 13ms/step\n",
      "1/1 [==============================] - 0s 13ms/step\n",
      "1/1 [==============================] - 0s 13ms/step\n",
      "1/1 [==============================] - 0s 13ms/step\n",
      "1/1 [==============================] - 0s 13ms/step\n"
     ]
    }
   ],
   "source": [
    "# load with best model\n",
    "sample_file = filenames[4]\n",
    "raw_notes = midi_to_notes(sample_file)\n",
    "\n",
    "pm = pretty_midi.PrettyMIDI(sample_file)\n",
    "\n",
    "model = tf.keras.saving.load_model('models/tuner_best_mode.keras')\n",
    "\n",
    "\n",
    "instrument = pm.instruments[0]\n",
    "instrument_name = pretty_midi.program_to_instrument_name(instrument.program)\n",
    "# model nutzen was gespeichert wurde (hier muss nicht vorher model gesucht werden)\n",
    "temperature = 2.0\n",
    "num_predictions = 120\n",
    "\n",
    "sample_notes = np.stack([raw_notes[key] for key in key_order], axis=1)\n",
    "\n",
    "# The initial sequence of notes; pitch is normalized similar to training\n",
    "# sequences\n",
    "input_notes = (\n",
    "    sample_notes[:seq_length] / np.array([vocab_size, 1, 1]))\n",
    "\n",
    "generated_notes = []\n",
    "prev_start = 0\n",
    "for _ in range(num_predictions):\n",
    "  pitch, step, duration = predict_next_note(input_notes, model, temperature)\n",
    "  start = prev_start + step\n",
    "  end = start + duration\n",
    "  input_note = (pitch, step, duration)\n",
    "  generated_notes.append((*input_note, start, end))\n",
    "  input_notes = np.delete(input_notes, 0, axis=0)\n",
    "  input_notes = np.append(input_notes, np.expand_dims(input_note, 0), axis=0)\n",
    "  prev_start = start\n",
    "\n",
    "generated_notes = pd.DataFrame(\n",
    "    generated_notes, columns=(*key_order, 'start', 'end'))"
   ]
  },
  {
   "cell_type": "code",
   "execution_count": 27,
   "id": "1d8ae7e9-c6f1-4a80-a626-46d9fc695076",
   "metadata": {},
   "outputs": [
    {
     "data": {
      "image/png": "[encoded data removed]",
      "text/plain": [
       "<Figure size 1500x500 with 3 Axes>"
      ]
     },
     "metadata": {},
     "output_type": "display_data"
    }
   ],
   "source": [
    "def plot_distributions(notes: pd.DataFrame, drop_percentile=2.5):\n",
    "  plt.figure(figsize=[15, 5])\n",
    "  plt.subplot(1, 3, 1)\n",
    "  sns.histplot(notes, x=\"pitch\", bins=20)\n",
    "\n",
    "  plt.subplot(1, 3, 2)\n",
    "  max_step = np.percentile(notes['step'], 100 - drop_percentile)\n",
    "  sns.histplot(notes, x=\"step\", bins=np.linspace(0, max_step, 21))\n",
    "\n",
    "  # todo: hier steht nichts  \n",
    "  plt.subplot(1, 3, 3)\n",
    "  max_duration = np.percentile(notes['duration'], 100 - drop_percentile)\n",
    "  sns.histplot(notes, x=\"duration\", bins=np.linspace(0, max_duration, 21))\n",
    "\n",
    "# Hier verwenden Sie die generierten Noten für den Plot\n",
    "plot_distributions(generated_notes)"
   ]
  },
  {
   "cell_type": "code",
   "execution_count": 28,
   "id": "a40e074a-3890-42d4-acbf-fbd7aa268288",
   "metadata": {},
   "outputs": [
    {
     "data": {
      "text/html": [
       "\n",
       "                <audio  controls=\"controls\" >\n",
       "                    <source src=\"data:audio/wav;base64,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\" type=\"audio/wav\" />\n",
       "                    Your browser does not support the audio element.\n",
       "                </audio>\n",
       "              "
      ],
      "text/plain": [
       "<IPython.lib.display.Audio object>"
      ]
     },
     "execution_count": 28,
     "metadata": {},
     "output_type": "execute_result"
    }
   ],
   "source": [
    "out_file = 'output.mid'\n",
    "out_pm = notes_to_midi(\n",
    "    generated_notes, out_file=out_file, instrument_name=instrument_name)\n",
    "display_audio(out_pm)"
   ]
  },
  {
   "cell_type": "code",
   "execution_count": 29,
   "id": "227b28b2-d133-41c6-811b-09df24ee2797",
   "metadata": {},
   "outputs": [],
   "source": [
    "# todo: notwenig? \n",
    "#from google.colab import files\n",
    "#files.download(out_file)"
   ]
  },
  {
   "cell_type": "code",
   "execution_count": 30,
   "id": "17db7c05-03ae-43e9-919d-2390168ea452",
   "metadata": {},
   "outputs": [],
   "source": [
    "#plot_piano_roll(generated_notes)"
   ]
  },
  {
   "cell_type": "code",
   "execution_count": 31,
   "id": "42117937-2981-4228-9b69-1a405f135549",
   "metadata": {},
   "outputs": [],
   "source": [
    "#plot_distributions(generated_notes)"
   ]
  }
 ],
 "metadata": {
  "kernelspec": {
   "display_name": "musicKernel",
   "language": "python",
   "name": "musickernel"
  },
  "language_info": {
   "codemirror_mode": {
    "name": "ipython",
    "version": 3
   },
   "file_extension": ".py",
   "mimetype": "text/x-python",
   "name": "python",
   "nbconvert_exporter": "python",
   "pygments_lexer": "ipython3",
   "version": "3.10.6"
  }
 },
 "nbformat": 4,
 "nbformat_minor": 5
}
