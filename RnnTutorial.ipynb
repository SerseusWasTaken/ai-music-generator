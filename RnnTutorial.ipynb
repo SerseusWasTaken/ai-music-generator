{
 "cells": [
  {
   "cell_type": "code",
   "execution_count": 1,
   "id": "0698ba24-a6ad-4f74-b845-f82bdde831c6",
   "metadata": {},
   "outputs": [
    {
     "ename": "ImportError",
     "evalue": "Couldn't find the FluidSynth library.",
     "output_type": "error",
     "traceback": [
      "\u001b[1;31m---------------------------------------------------------------------------\u001b[0m",
      "\u001b[1;31mImportError\u001b[0m                               Traceback (most recent call last)",
      "Cell \u001b[1;32mIn[1], line 2\u001b[0m\n\u001b[0;32m      1\u001b[0m \u001b[38;5;28;01mimport\u001b[39;00m \u001b[38;5;21;01mtime\u001b[39;00m\n\u001b[1;32m----> 2\u001b[0m \u001b[38;5;28;01mimport\u001b[39;00m \u001b[38;5;21;01mfluidsynth\u001b[39;00m\n\u001b[0;32m      4\u001b[0m fs \u001b[38;5;241m=\u001b[39m fluidsynth\u001b[38;5;241m.\u001b[39mSynth()\n\u001b[0;32m      5\u001b[0m fs\u001b[38;5;241m.\u001b[39mstart()\n",
      "File \u001b[1;32mJ:\\HFU\\Master\\ai-music-generator\\musicEnv\\lib\\site-packages\\fluidsynth.py:44\u001b[0m\n\u001b[0;32m     37\u001b[0m lib \u001b[38;5;241m=\u001b[39m find_library(\u001b[38;5;124m'\u001b[39m\u001b[38;5;124mfluidsynth\u001b[39m\u001b[38;5;124m'\u001b[39m) \u001b[38;5;129;01mor\u001b[39;00m \\\n\u001b[0;32m     38\u001b[0m     find_library(\u001b[38;5;124m'\u001b[39m\u001b[38;5;124mlibfluidsynth\u001b[39m\u001b[38;5;124m'\u001b[39m) \u001b[38;5;129;01mor\u001b[39;00m \\\n\u001b[0;32m     39\u001b[0m     find_library(\u001b[38;5;124m'\u001b[39m\u001b[38;5;124mlibfluidsynth-3\u001b[39m\u001b[38;5;124m'\u001b[39m) \u001b[38;5;129;01mor\u001b[39;00m \\\n\u001b[0;32m     40\u001b[0m     find_library(\u001b[38;5;124m'\u001b[39m\u001b[38;5;124mlibfluidsynth-2\u001b[39m\u001b[38;5;124m'\u001b[39m) \u001b[38;5;129;01mor\u001b[39;00m \\\n\u001b[0;32m     41\u001b[0m     find_library(\u001b[38;5;124m'\u001b[39m\u001b[38;5;124mlibfluidsynth-1\u001b[39m\u001b[38;5;124m'\u001b[39m)\n\u001b[0;32m     43\u001b[0m \u001b[38;5;28;01mif\u001b[39;00m lib \u001b[38;5;129;01mis\u001b[39;00m \u001b[38;5;28;01mNone\u001b[39;00m:\n\u001b[1;32m---> 44\u001b[0m     \u001b[38;5;28;01mraise\u001b[39;00m \u001b[38;5;167;01mImportError\u001b[39;00m(\u001b[38;5;124m\"\u001b[39m\u001b[38;5;124mCouldn\u001b[39m\u001b[38;5;124m'\u001b[39m\u001b[38;5;124mt find the FluidSynth library.\u001b[39m\u001b[38;5;124m\"\u001b[39m)\n\u001b[0;32m     46\u001b[0m \u001b[38;5;66;03m# Dynamically link the FluidSynth library\u001b[39;00m\n\u001b[0;32m     47\u001b[0m \u001b[38;5;66;03m# Architecture (32-/64-bit) must match your Python version\u001b[39;00m\n\u001b[0;32m     48\u001b[0m _fl \u001b[38;5;241m=\u001b[39m CDLL(lib)\n",
      "\u001b[1;31mImportError\u001b[0m: Couldn't find the FluidSynth library."
     ]
    }
   ],
   "source": [
    "import time\n",
    "import fluidsynth\n",
    "\n",
    "fs = fluidsynth.Synth()\n",
    "fs.start()\n",
    "\n",
    "sfid = fs.sfload(\"example.sf2\")\n",
    "fs.program_select(0, sfid, 0, 0)\n",
    "\n",
    "fs.noteon(0, 60, 30)\n",
    "fs.noteon(0, 67, 30)\n",
    "fs.noteon(0, 76, 30)\n",
    "\n",
    "time.sleep(1.0)\n",
    "\n",
    "fs.noteoff(0, 60)\n",
    "fs.noteoff(0, 67)\n",
    "fs.noteoff(0, 76)\n",
    "\n",
    "time.sleep(1.0)\n",
    "\n",
    "fs.delete()"
   ]
  },
  {
   "cell_type": "code",
   "execution_count": null,
   "id": "e3694ab5-51e2-4978-a7d9-2ee42c35937c",
   "metadata": {},
   "outputs": [],
   "source": [
    "import collections\n",
    "import datetime\n",
    "import fluidsynth\n",
    "import glob\n",
    "import numpy as np\n",
    "import pathlib\n",
    "import pandas as pd\n",
    "import pretty_midi\n",
    "import seaborn as sns\n",
    "import tensorflow as tf\n",
    "\n",
    "from IPython import display\n",
    "from matplotlib import pyplot as plt\n",
    "from typing import Optional"
   ]
  },
  {
   "cell_type": "code",
   "execution_count": null,
   "id": "2287bbe4-e9b5-41d1-8d81-cadfeac92bee",
   "metadata": {},
   "outputs": [],
   "source": [
    "seed = 42\n",
    "tf.random.set_seed(seed)\n",
    "np.random.seed(seed)\n",
    "\n",
    "# Sampling rate for audio playback\n",
    "_SAMPLING_RATE = 16000"
   ]
  },
  {
   "cell_type": "code",
   "execution_count": null,
   "id": "f5bdb79b-d08e-4398-8bd1-37cede1400a4",
   "metadata": {},
   "outputs": [],
   "source": [
    "# Download Maestro = Midi Files \n",
    "data_dir = pathlib.Path('data/maestro-v2.0.0')\n",
    "if not data_dir.exists():\n",
    "  tf.keras.utils.get_file(\n",
    "     'maestro-v2.0.0-midi.zip',\n",
    "      origin='https://storage.googleapis.com/magentadata/datasets/maestro/v2.0.0/maestro-v2.0.0-midi.zip',\n",
    "      extract=True,\n",
    "      cache_dir='.', cache_subdir='data',\n",
    "  )"
   ]
  },
  {
   "cell_type": "code",
   "execution_count": null,
   "id": "09fb9a7a-51f1-4139-99ee-c4550b8c7e3d",
   "metadata": {},
   "outputs": [],
   "source": [
    "filenames = glob.glob(str(data_dir/'**/*.mid*'))\n",
    "print('Number of files:', len(filenames))"
   ]
  },
  {
   "cell_type": "code",
   "execution_count": null,
   "id": "3f2f07b2-3ba0-4655-a97a-8546ec296713",
   "metadata": {},
   "outputs": [],
   "source": [
    "sample_file = filenames[1]\n",
    "print(sample_file)"
   ]
  },
  {
   "cell_type": "code",
   "execution_count": null,
   "id": "21b4f826-6ffd-47be-bd69-dec880945587",
   "metadata": {},
   "outputs": [],
   "source": [
    "pm = pretty_midi.PrettyMIDI(sample_file)"
   ]
  },
  {
   "cell_type": "code",
   "execution_count": null,
   "id": "23826176-7e5a-487d-bb32-5f6fa1d3cd95",
   "metadata": {},
   "outputs": [],
   "source": [
    "def display_audio(pm: pretty_midi.PrettyMIDI, seconds=30):\n",
    "  waveform = pm.fluidsynth(fs=_SAMPLING_RATE)\n",
    "  # Take a sample of the generated waveform to mitigate kernel resets\n",
    "  waveform_short = waveform[:seconds*_SAMPLING_RATE]\n",
    "  return display.Audio(waveform_short, rate=_SAMPLING_RATE)"
   ]
  },
  {
   "cell_type": "code",
   "execution_count": null,
   "id": "96d229b5-1508-4121-b0e7-512bfa864309",
   "metadata": {},
   "outputs": [],
   "source": [
    "display_audio(pm)"
   ]
  },
  {
   "cell_type": "code",
   "execution_count": null,
   "id": "d26bb920-1768-4228-bb41-ae8e1c939df9",
   "metadata": {},
   "outputs": [],
   "source": [
    "print('Number of instruments:', len(pm.instruments))\n",
    "instrument = pm.instruments[0]\n",
    "instrument_name = pretty_midi.program_to_instrument_name(instrument.program)\n",
    "print('Instrument name:', instrument_name)"
   ]
  },
  {
   "cell_type": "code",
   "execution_count": null,
   "id": "5a77a043-c6ae-46d1-8901-19ec5f9114b1",
   "metadata": {},
   "outputs": [],
   "source": []
  }
 ],
 "metadata": {
  "kernelspec": {
   "display_name": "musicKernel",
   "language": "python",
   "name": "musickernel"
  },
  "language_info": {
   "codemirror_mode": {
    "name": "ipython",
    "version": 3
   },
   "file_extension": ".py",
   "mimetype": "text/x-python",
   "name": "python",
   "nbconvert_exporter": "python",
   "pygments_lexer": "ipython3",
   "version": "3.10.6"
  }
 },
 "nbformat": 4,
 "nbformat_minor": 5
}
