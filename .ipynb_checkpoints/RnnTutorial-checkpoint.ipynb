{
 "cells": [
  {
   "cell_type": "code",
   "execution_count": 1,
   "id": "e3694ab5-51e2-4978-a7d9-2ee42c35937c",
   "metadata": {},
   "outputs": [
    {
     "ename": "SyntaxError",
     "evalue": "invalid syntax (fluidsynth.py, line 36)",
     "output_type": "error",
     "traceback": [
      "Traceback \u001b[1;36m(most recent call last)\u001b[0m:\n",
      "\u001b[0m  File \u001b[0;32mJ:\\HFU\\Master\\ai-music-generator\\musicEnv\\lib\\site-packages\\IPython\\core\\interactiveshell.py:3548\u001b[0m in \u001b[0;35mrun_code\u001b[0m\n    exec(code_obj, self.user_global_ns, self.user_ns)\u001b[0m\n",
      "\u001b[1;36m  Cell \u001b[1;32mIn[1], line 3\u001b[1;36m\n\u001b[1;33m    import fluidsynth\u001b[1;36m\n",
      "\u001b[1;36m  File \u001b[1;32mJ:\\HFU\\Master\\ai-music-generator\\musicEnv\\lib\\site-packages\\fluidsynth.py:36\u001b[1;36m\u001b[0m\n\u001b[1;33m    raise ImportError, \"Couldn't find the FluidSynth library.\"\u001b[0m\n\u001b[1;37m                     ^\u001b[0m\n\u001b[1;31mSyntaxError\u001b[0m\u001b[1;31m:\u001b[0m invalid syntax\n"
     ]
    }
   ],
   "source": [
    "import collections\n",
    "import datetime\n",
    "import fluidsynth\n",
    "import glob\n",
    "import numpy as np\n",
    "import pathlib\n",
    "import pandas as pd\n",
    "import pretty_midi\n",
    "import seaborn as sns\n",
    "import tensorflow as tf\n",
    "\n",
    "from IPython import display\n",
    "from matplotlib import pyplot as plt\n",
    "from typing import Optional"
   ]
  },
  {
   "cell_type": "code",
   "execution_count": null,
   "id": "2287bbe4-e9b5-41d1-8d81-cadfeac92bee",
   "metadata": {},
   "outputs": [],
   "source": [
    "seed = 42\n",
    "tf.random.set_seed(seed)\n",
    "np.random.seed(seed)\n",
    "\n",
    "# Sampling rate for audio playback\n",
    "_SAMPLING_RATE = 16000"
   ]
  },
  {
   "cell_type": "code",
   "execution_count": null,
   "id": "f5bdb79b-d08e-4398-8bd1-37cede1400a4",
   "metadata": {},
   "outputs": [],
   "source": [
    "# Download Maestro = Midi Files \n",
    "data_dir = pathlib.Path('data/maestro-v2.0.0')\n",
    "if not data_dir.exists():\n",
    "  tf.keras.utils.get_file(\n",
    "     'maestro-v2.0.0-midi.zip',\n",
    "      origin='https://storage.googleapis.com/magentadata/datasets/maestro/v2.0.0/maestro-v2.0.0-midi.zip',\n",
    "      extract=True,\n",
    "      cache_dir='.', cache_subdir='data',\n",
    "  )"
   ]
  },
  {
   "cell_type": "code",
   "execution_count": null,
   "id": "09fb9a7a-51f1-4139-99ee-c4550b8c7e3d",
   "metadata": {},
   "outputs": [],
   "source": [
    "filenames = glob.glob(str(data_dir/'**/*.mid*'))\n",
    "print('Number of files:', len(filenames))"
   ]
  },
  {
   "cell_type": "code",
   "execution_count": null,
   "id": "3f2f07b2-3ba0-4655-a97a-8546ec296713",
   "metadata": {},
   "outputs": [],
   "source": [
    "sample_file = filenames[1]\n",
    "print(sample_file)"
   ]
  },
  {
   "cell_type": "code",
   "execution_count": null,
   "id": "21b4f826-6ffd-47be-bd69-dec880945587",
   "metadata": {},
   "outputs": [],
   "source": [
    "pm = pretty_midi.PrettyMIDI(sample_file)"
   ]
  },
  {
   "cell_type": "code",
   "execution_count": null,
   "id": "23826176-7e5a-487d-bb32-5f6fa1d3cd95",
   "metadata": {},
   "outputs": [],
   "source": [
    "def display_audio(pm: pretty_midi.PrettyMIDI, seconds=30):\n",
    "  waveform = pm.fluidsynth(fs=_SAMPLING_RATE)\n",
    "  # Take a sample of the generated waveform to mitigate kernel resets\n",
    "  waveform_short = waveform[:seconds*_SAMPLING_RATE]\n",
    "  return display.Audio(waveform_short, rate=_SAMPLING_RATE)"
   ]
  },
  {
   "cell_type": "code",
   "execution_count": null,
   "id": "96d229b5-1508-4121-b0e7-512bfa864309",
   "metadata": {},
   "outputs": [],
   "source": [
    "display_audio(pm)"
   ]
  },
  {
   "cell_type": "code",
   "execution_count": null,
   "id": "d26bb920-1768-4228-bb41-ae8e1c939df9",
   "metadata": {},
   "outputs": [],
   "source": []
  }
 ],
 "metadata": {
  "kernelspec": {
   "display_name": "musicKernel",
   "language": "python",
   "name": "musickernel"
  },
  "language_info": {
   "codemirror_mode": {
    "name": "ipython",
    "version": 3
   },
   "file_extension": ".py",
   "mimetype": "text/x-python",
   "name": "python",
   "nbconvert_exporter": "python",
   "pygments_lexer": "ipython3",
   "version": "3.10.6"
  }
 },
 "nbformat": 4,
 "nbformat_minor": 5
}
